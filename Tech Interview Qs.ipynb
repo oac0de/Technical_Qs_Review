{
 "cells": [
  {
   "cell_type": "markdown",
   "metadata": {},
   "source": [
    "Here I am going to copy and paste a number of potential/related interview questions that I have seen throughout my research for interview prep. The idea here is pretty intuitive. Starting somewhere, building memory, and comfort attacking these types of problems."
   ]
  },
  {
   "cell_type": "markdown",
   "metadata": {},
   "source": [
    "# Pythonic kind of math\n",
    "## - *Given an array_of_ints, find the highest_product you can get from three of the integers.*\n",
    "\n",
    "    \n",
    "At first, I assumed this would be easy: just sort the list/array of integers in descending order and multiply the first three. However this is naive as it doesn't take into account the possibility of negative numbers. Now it will be a bit more complex! "
   ]
  },
  {
   "cell_type": "code",
   "execution_count": 2,
   "metadata": {
    "ExecuteTime": {
     "end_time": "2020-12-21T14:18:34.495644Z",
     "start_time": "2020-12-21T14:18:34.492118Z"
    }
   },
   "outputs": [],
   "source": [
    "array_of_ints = [-9, 2, 5, 6, -9, 8]"
   ]
  },
  {
   "cell_type": "markdown",
   "metadata": {},
   "source": [
    "My first try:"
   ]
  },
  {
   "cell_type": "code",
   "execution_count": 24,
   "metadata": {
    "ExecuteTime": {
     "end_time": "2020-12-20T16:02:44.964288Z",
     "start_time": "2020-12-20T16:02:44.959567Z"
    }
   },
   "outputs": [],
   "source": [
    "def highest_product_of_3(array):\n",
    "    sorted_ints = sorted(array)\n",
    "    biggest_abs = []\n",
    "    for num in sorted_ints:\n",
    "        if abs(sorted_ints[num]) > abs(sorted_ints[num + 1]):\n",
    "            biggest_abs.append(sorted_ints[num])\n",
    "        else:\n",
    "            break\n",
    "    return (biggest_abs)\n"
   ]
  },
  {
   "cell_type": "code",
   "execution_count": 25,
   "metadata": {
    "ExecuteTime": {
     "end_time": "2020-12-20T16:02:45.265228Z",
     "start_time": "2020-12-20T16:02:45.252728Z"
    }
   },
   "outputs": [
    {
     "ename": "IndexError",
     "evalue": "list index out of range",
     "output_type": "error",
     "traceback": [
      "\u001b[0;31m---------------------------------------------------------------------------\u001b[0m",
      "\u001b[0;31mIndexError\u001b[0m                                Traceback (most recent call last)",
      "\u001b[0;32m<ipython-input-25-0d06e21ef7b9>\u001b[0m in \u001b[0;36m<module>\u001b[0;34m\u001b[0m\n\u001b[0;32m----> 1\u001b[0;31m \u001b[0mhighest_product_of_3\u001b[0m\u001b[0;34m(\u001b[0m\u001b[0marray_of_ints\u001b[0m\u001b[0;34m)\u001b[0m\u001b[0;34m\u001b[0m\u001b[0;34m\u001b[0m\u001b[0m\n\u001b[0m",
      "\u001b[0;32m<ipython-input-24-9c6d90964445>\u001b[0m in \u001b[0;36mhighest_product_of_3\u001b[0;34m(array)\u001b[0m\n\u001b[1;32m      3\u001b[0m     \u001b[0mbiggest_abs\u001b[0m \u001b[0;34m=\u001b[0m \u001b[0;34m[\u001b[0m\u001b[0;34m]\u001b[0m\u001b[0;34m\u001b[0m\u001b[0;34m\u001b[0m\u001b[0m\n\u001b[1;32m      4\u001b[0m     \u001b[0;32mfor\u001b[0m \u001b[0mnum\u001b[0m \u001b[0;32min\u001b[0m \u001b[0msorted_ints\u001b[0m\u001b[0;34m:\u001b[0m\u001b[0;34m\u001b[0m\u001b[0;34m\u001b[0m\u001b[0m\n\u001b[0;32m----> 5\u001b[0;31m         \u001b[0;32mif\u001b[0m \u001b[0mabs\u001b[0m\u001b[0;34m(\u001b[0m\u001b[0msorted_ints\u001b[0m\u001b[0;34m[\u001b[0m\u001b[0mnum\u001b[0m\u001b[0;34m]\u001b[0m\u001b[0;34m)\u001b[0m \u001b[0;34m>\u001b[0m \u001b[0mabs\u001b[0m\u001b[0;34m(\u001b[0m\u001b[0msorted_ints\u001b[0m\u001b[0;34m[\u001b[0m\u001b[0mnum\u001b[0m \u001b[0;34m+\u001b[0m \u001b[0;36m1\u001b[0m\u001b[0;34m]\u001b[0m\u001b[0;34m)\u001b[0m\u001b[0;34m:\u001b[0m\u001b[0;34m\u001b[0m\u001b[0;34m\u001b[0m\u001b[0m\n\u001b[0m\u001b[1;32m      6\u001b[0m             \u001b[0mbiggest_abs\u001b[0m\u001b[0;34m.\u001b[0m\u001b[0mappend\u001b[0m\u001b[0;34m(\u001b[0m\u001b[0msorted_ints\u001b[0m\u001b[0;34m[\u001b[0m\u001b[0mnum\u001b[0m\u001b[0;34m]\u001b[0m\u001b[0;34m)\u001b[0m\u001b[0;34m\u001b[0m\u001b[0;34m\u001b[0m\u001b[0m\n\u001b[1;32m      7\u001b[0m         \u001b[0;32melse\u001b[0m\u001b[0;34m:\u001b[0m\u001b[0;34m\u001b[0m\u001b[0;34m\u001b[0m\u001b[0m\n",
      "\u001b[0;31mIndexError\u001b[0m: list index out of range"
     ]
    }
   ],
   "source": [
    "highest_product_of_3(array_of_ints)"
   ]
  },
  {
   "cell_type": "markdown",
   "metadata": {},
   "source": [
    "researched... heapq module has a convenient tool for this: 'smallest' and 'largest'. Although sorting the list could be just as easy, I have the feeling that would increase the runtime/Big O notation."
   ]
  },
  {
   "cell_type": "code",
   "execution_count": 3,
   "metadata": {
    "ExecuteTime": {
     "end_time": "2020-12-21T14:18:37.061220Z",
     "start_time": "2020-12-21T14:18:37.058610Z"
    }
   },
   "outputs": [],
   "source": [
    "import heapq"
   ]
  },
  {
   "cell_type": "code",
   "execution_count": 4,
   "metadata": {
    "ExecuteTime": {
     "end_time": "2020-12-21T14:18:38.049610Z",
     "start_time": "2020-12-21T14:18:38.044398Z"
    }
   },
   "outputs": [],
   "source": [
    "def highest_product_of_3(nums): \n",
    "    max3 = heapq.nlargest(3, nums)\n",
    "    min3 = heapq.nsmallest(3, nums)\n",
    "    a1 = max3[0] * max3[1] * max3[2]\n",
    "    a2 = min3[0] * min3[1] * min3[2]\n",
    "    a3 = min3[0] * max3[0] * max3[1]\n",
    "    a4 = min3[0] * min3[1] * max3[0]\n",
    "    if abs(min(a1, a2, a3, a4)) > abs(max(a1, a2, a3, a4)):\n",
    "        return min(a1, a2, a3, a4)\n",
    "    else:\n",
    "        return max(a1, a2, a3, a4)"
   ]
  },
  {
   "cell_type": "markdown",
   "metadata": {},
   "source": [
    "O(n) solution"
   ]
  },
  {
   "cell_type": "code",
   "execution_count": 5,
   "metadata": {
    "ExecuteTime": {
     "end_time": "2020-12-21T14:18:39.722728Z",
     "start_time": "2020-12-21T14:18:39.718661Z"
    }
   },
   "outputs": [
    {
     "data": {
      "text/plain": [
       "648"
      ]
     },
     "execution_count": 5,
     "metadata": {},
     "output_type": "execute_result"
    }
   ],
   "source": [
    "highest_product_of_3(array_of_ints)"
   ]
  },
  {
   "cell_type": "markdown",
   "metadata": {},
   "source": [
    "works!"
   ]
  },
  {
   "cell_type": "markdown",
   "metadata": {},
   "source": [
    "# Create a function to count duplicate numbers in a list:"
   ]
  },
  {
   "cell_type": "code",
   "execution_count": 9,
   "metadata": {
    "ExecuteTime": {
     "end_time": "2020-12-23T01:31:44.247260Z",
     "start_time": "2020-12-23T01:31:44.240997Z"
    }
   },
   "outputs": [
    {
     "data": {
      "text/plain": [
       "[1, 4, 9, 4, 3, 3, 9, 9, 3, 1]"
      ]
     },
     "execution_count": 9,
     "metadata": {},
     "output_type": "execute_result"
    }
   ],
   "source": [
    "a = [1, 4, 2, 9, 7, 4, 3, 3, 9, 8, 9, 3, 1]\n",
    "\n",
    "\n",
    "def count_duplicates(a):\n",
    "    duplicates = []\n",
    "    for num in a:\n",
    "        if a.count(num) > 1: \n",
    "            duplicates.append(num)\n",
    "    return duplicates\n",
    "            \n",
    "\n",
    "count_duplicates(a)"
   ]
  },
  {
   "cell_type": "markdown",
   "metadata": {},
   "source": [
    "Ok, so that returned us every number AND it's duplicate. I think we just want a count of duplicates. Need to work more on this!"
   ]
  },
  {
   "cell_type": "markdown",
   "metadata": {},
   "source": [
    "# math kind of math"
   ]
  },
  {
   "cell_type": "markdown",
   "metadata": {},
   "source": [
    "## - If we list all the natural numbers below 10 that are multiples of 3 or 5, we get 3, 5, 6 and 9. The sum of these multiples is 23. Find the sum of all the multiples of 3 or 5 below 1000."
   ]
  },
  {
   "cell_type": "markdown",
   "metadata": {},
   "source": [
    "This could be done using list comprehension"
   ]
  },
  {
   "cell_type": "code",
   "execution_count": 1,
   "metadata": {
    "ExecuteTime": {
     "end_time": "2020-12-22T21:08:59.589094Z",
     "start_time": "2020-12-22T21:08:59.584614Z"
    }
   },
   "outputs": [
    {
     "data": {
      "text/plain": [
       "233168"
      ]
     },
     "execution_count": 1,
     "metadata": {},
     "output_type": "execute_result"
    }
   ],
   "source": [
    "sum([i for i in range(1000) if i % 3 == 0 or i % 5 == 0])"
   ]
  },
  {
   "cell_type": "markdown",
   "metadata": {},
   "source": [
    "## Each new term in the Fibonacci sequence is generated by adding the previous two terms. By starting with 1 and 2, the first 10 terms will be: 1, 2, 3, 5, 8, 13, 21, 34, 55, 89, ... By considering the terms in the Fibonacci sequence whose values do not exceed four million, find the sum of the even-valued terms."
   ]
  },
  {
   "cell_type": "code",
   "execution_count": 24,
   "metadata": {
    "ExecuteTime": {
     "end_time": "2020-12-21T15:06:41.566667Z",
     "start_time": "2020-12-21T15:06:41.561939Z"
    },
    "scrolled": true
   },
   "outputs": [
    {
     "name": "stdout",
     "output_type": "stream",
     "text": [
      "4613732\n"
     ]
    }
   ],
   "source": [
    "def fib(num):\n",
    "    fib1, fib2 = 0, 1\n",
    "    while fib1 < num:\n",
    "        yield fib1\n",
    "        fib1, fib2 = fib2, fib1 + fib2\n",
    "        \n",
    "print(sum(filter(lambda n: n % 2 == 0, fib(4000000))))\n",
    "        "
   ]
  },
  {
   "cell_type": "markdown",
   "metadata": {},
   "source": []
  },
  {
   "cell_type": "markdown",
   "metadata": {},
   "source": [
    "# Hackerrank problems\n",
    "____\n",
    "*Polar coordinates*"
   ]
  },
  {
   "cell_type": "markdown",
   "metadata": {},
   "source": [
    "Polar coordinates are an alternative way of representing Cartesian coordinates or Complex Numbers.\n",
    "\n",
    "A complex number  Capture.PNG\n",
    "\n",
    "is completely determined by its real part  and imaginary part .\n",
    "Here,  is the imaginary unit.\n",
    "A polar coordinate () Capture.PNG\n",
    "\n",
    "is completely determined by modulus  and phase angle .\n",
    "\n",
    "If we convert complex number  to its polar coordinate, we find:\n",
    ": Distance from  to origin, i.e., \n",
    ": Counter clockwise angle measured from the positive -axis to the line segment that joins  to the origin.\n",
    "\n",
    "Python's cmath module provides access to the mathematical functions for complex numbers.\n",
    "\n",
    "\n",
    "This tool returns the phase of complex number  (also known as the argument of ).\n",
    "\n",
    ">>> phase(complex(-1.0, 0.0))\n",
    "3.1415926535897931\n",
    "\n",
    "This tool returns the modulus (absolute value) of complex number .\n",
    "\n",
    ">>> abs(complex(-1.0, 0.0))\n",
    "1.0\n",
    "Task\n",
    "You are given a complex . Your task is to convert it to polar coordinates.\n",
    "\n",
    "Input Format\n",
    "\n",
    "A single line containing the complex number . Note: complex() function can be used in python to convert the input as a complex number.\n",
    "\n",
    "Constraints\n",
    "\n",
    "Given number is a valid complex number\n",
    "\n",
    "Output Format\n",
    "\n",
    "Output two lines:\n",
    "The first line should contain the value of .\n",
    "The second line should contain the value of .\n",
    "\n",
    "Sample Input\n",
    "\n",
    "  1+2j\n",
    "Sample Output\n",
    "\n",
    " 2.23606797749979 \n",
    " 1.1071487177940904\n",
    "Note: The output should be correct up to 3 decimal places."
   ]
  },
  {
   "cell_type": "code",
   "execution_count": 7,
   "metadata": {
    "ExecuteTime": {
     "end_time": "2020-12-28T14:16:25.316207Z",
     "start_time": "2020-12-28T14:16:25.311256Z"
    }
   },
   "outputs": [],
   "source": [
    "import cmath"
   ]
  },
  {
   "cell_type": "code",
   "execution_count": 1,
   "metadata": {
    "ExecuteTime": {
     "end_time": "2020-12-28T14:10:47.531750Z",
     "start_time": "2020-12-28T14:10:34.144971Z"
    }
   },
   "outputs": [
    {
     "name": "stdout",
     "output_type": "stream",
     "text": [
      "1+2j\n"
     ]
    }
   ],
   "source": [
    "z = complex(input())"
   ]
  },
  {
   "cell_type": "code",
   "execution_count": 5,
   "metadata": {
    "ExecuteTime": {
     "end_time": "2020-12-28T14:11:27.545869Z",
     "start_time": "2020-12-28T14:11:27.541403Z"
    }
   },
   "outputs": [
    {
     "data": {
      "text/plain": [
       "(1+2j)"
      ]
     },
     "execution_count": 5,
     "metadata": {},
     "output_type": "execute_result"
    }
   ],
   "source": [
    "z"
   ]
  },
  {
   "cell_type": "code",
   "execution_count": 9,
   "metadata": {
    "ExecuteTime": {
     "end_time": "2020-12-28T14:17:09.693192Z",
     "start_time": "2020-12-28T14:17:09.689605Z"
    },
    "scrolled": true
   },
   "outputs": [
    {
     "name": "stdout",
     "output_type": "stream",
     "text": [
      "(2.23606797749979, 1.1071487177940904) \n",
      "\n"
     ]
    }
   ],
   "source": [
    "print(cmath.polar(z), '\\n')"
   ]
  },
  {
   "cell_type": "markdown",
   "metadata": {},
   "source": [
    "____\n",
    "ABC is a right triangle,  at 90'.\n",
    "Therefore, .\n",
    "\n",
    "Point M is the midpoint of hypotenuse.\n",
    "\n",
    "You are given the lengths AB and BC.\n",
    "Your task is to find  (angle , as shown in the figure) in degrees.\n",
    "\n",
    "Input Format\n",
    "\n",
    "The first line contains the length of side AB.\n",
    "The second line contains the length of side BC.\n",
    "\n",
    "Output Format\n",
    "\n",
    "Output  in degrees.\n",
    "\n",
    "Note: Round the angle to the nearest integer.\n",
    "\n",
    "Examples:\n",
    "If angle is 56.5000001°, then output 57°.\n",
    "If angle is 56.5000000°, then output 57°.\n",
    "If angle is 56.4999999°, then output 56°.\n"
   ]
  },
  {
   "cell_type": "code",
   "execution_count": 15,
   "metadata": {
    "ExecuteTime": {
     "end_time": "2020-12-28T14:53:20.585447Z",
     "start_time": "2020-12-28T14:53:20.582905Z"
    }
   },
   "outputs": [],
   "source": [
    "import math"
   ]
  },
  {
   "cell_type": "code",
   "execution_count": 34,
   "metadata": {
    "ExecuteTime": {
     "end_time": "2020-12-28T21:08:24.656297Z",
     "start_time": "2020-12-28T21:08:23.097364Z"
    }
   },
   "outputs": [
    {
     "name": "stdout",
     "output_type": "stream",
     "text": [
      "10\n",
      "10\n"
     ]
    }
   ],
   "source": [
    "AB = int(input())\n",
    "BC = int(input())"
   ]
  },
  {
   "cell_type": "markdown",
   "metadata": {},
   "source": [
    "First, we need to find length of AC, the hypotenuse"
   ]
  },
  {
   "cell_type": "code",
   "execution_count": 21,
   "metadata": {
    "ExecuteTime": {
     "end_time": "2020-12-28T14:54:17.422487Z",
     "start_time": "2020-12-28T14:54:17.417849Z"
    }
   },
   "outputs": [
    {
     "data": {
      "text/plain": [
       "14.142135623730951"
      ]
     },
     "execution_count": 21,
     "metadata": {},
     "output_type": "execute_result"
    }
   ],
   "source": [
    "hyp = math.sqrt((AB**2) + (BC**2))\n",
    "hyp"
   ]
  },
  {
   "cell_type": "code",
   "execution_count": 26,
   "metadata": {
    "ExecuteTime": {
     "end_time": "2020-12-28T15:15:51.442601Z",
     "start_time": "2020-12-28T15:15:51.438443Z"
    }
   },
   "outputs": [
    {
     "data": {
      "text/plain": [
       "14.142135623730951"
      ]
     },
     "execution_count": 26,
     "metadata": {},
     "output_type": "execute_result"
    }
   ],
   "source": [
    "hypo = math.hypot(AB, BC)\n",
    "hypo"
   ]
  },
  {
   "cell_type": "code",
   "execution_count": 30,
   "metadata": {
    "ExecuteTime": {
     "end_time": "2020-12-28T15:22:13.689240Z",
     "start_time": "2020-12-28T15:22:13.684572Z"
    }
   },
   "outputs": [
    {
     "data": {
      "text/plain": [
       "0.7853981633974484"
      ]
     },
     "execution_count": 30,
     "metadata": {},
     "output_type": "execute_result"
    }
   ],
   "source": [
    "math.acos(BC/hypo)"
   ]
  },
  {
   "cell_type": "markdown",
   "metadata": {},
   "source": [
    "Below is the complete workaround from one of the discussion comments.\"We can Solve this problem by using a property: ** That a median on the hypotenuse divides the right angled triangle in two isosceles triangles.** * Means AM=BM=CM * So, ∡MBC = ∡MCB\""
   ]
  },
  {
   "cell_type": "code",
   "execution_count": 35,
   "metadata": {
    "ExecuteTime": {
     "end_time": "2020-12-28T21:08:27.036730Z",
     "start_time": "2020-12-28T21:08:27.033146Z"
    }
   },
   "outputs": [
    {
     "name": "stdout",
     "output_type": "stream",
     "text": [
      "45°\n"
     ]
    }
   ],
   "source": [
    "print(str(int(round(math.degrees(math.atan2(AB,BC)))))+'°')"
   ]
  },
  {
   "cell_type": "markdown",
   "metadata": {},
   "source": [
    "____"
   ]
  },
  {
   "cell_type": "markdown",
   "metadata": {},
   "source": [
    "For an input consisting of N number of commands and their actual commands, write a code that iterates through each input for a list. This will require parsing input phrases such as \"insert 0 5\" and \"append 6\". solution courtesy of nice guy in discussion."
   ]
  },
  {
   "cell_type": "code",
   "execution_count": 64,
   "metadata": {
    "ExecuteTime": {
     "end_time": "2020-12-28T23:17:19.672080Z",
     "start_time": "2020-12-28T23:01:05.371283Z"
    }
   },
   "outputs": [
    {
     "name": "stdout",
     "output_type": "stream",
     "text": [
      "12\n",
      "insert 0 5\n",
      "insert 1 8\n",
      "append 8\n",
      "remove 5\n",
      "print\n",
      "[8, 8]\n",
      "pop\n",
      "append 4\n",
      "insert 2 3\n",
      "remove 4\n",
      "print\n",
      "[8, 3]\n",
      "insert 4 20\n",
      "print\n",
      "[8, 3, 20]\n"
     ]
    }
   ],
   "source": [
    "if __name__ == '__main__':\n",
    "    N = int(input())   \n",
    "    \n",
    "    commands = {\n",
    "        \"insert\": lambda mylist, i, e: mylist.insert(i, e),\n",
    "        \"append\": lambda mylist, e: mylist.append(e),\n",
    "        \"print\": lambda mylist: print(mylist),\n",
    "        \"remove\": lambda mylist, e: mylist.remove(e),\n",
    "        \"sort\": lambda mylist: mylist.sort(),\n",
    "        \"pop\": lambda mylist: mylist.pop(),\n",
    "        \"reverse\": lambda mylist: mylist.reverse()\n",
    "    }\n",
    "    \n",
    "    mylist = []\n",
    "    \n",
    "    for command in range(N):\n",
    "        cmd, *args = input().split()\n",
    "        args = [int(a) for a in args]\n",
    "        commands[cmd](mylist, *args)     #*args is important here. the asterisk denotes our variable number of arguments"
   ]
  },
  {
   "cell_type": "markdown",
   "metadata": {},
   "source": [
    "write up for * in python https://www.geeksforgeeks.org/args-kwargs-python/"
   ]
  },
  {
   "cell_type": "markdown",
   "metadata": {},
   "source": [
    "____"
   ]
  },
  {
   "cell_type": "markdown",
   "metadata": {},
   "source": [
    "## Task\n",
    "Given an integer,n , and  space-separated integers as input, create a tuple, t , of those  integers. Then compute and print the result of hash(t).\n",
    "\n",
    "Note: hash() is one of the functions in the __builtins__ module, so it need not be imported.\n",
    "\n",
    "Input Format\n",
    "\n",
    "The first line contains an integer, n , denoting the number of elements in the tuple.\n",
    "The second line contains n space-separated integers describing the elements in tuple 't'.\n",
    "\n",
    "Output Format\n",
    "\n",
    "Print the result of hash(t)\n",
    "\n",
    "Sample Input \n",
    "\n",
    "2 \n",
    "\n",
    "1 2\n",
    "\n",
    "Sample Output \n",
    "\n",
    "3713081631934410656"
   ]
  },
  {
   "cell_type": "code",
   "execution_count": 59,
   "metadata": {
    "ExecuteTime": {
     "end_time": "2020-12-30T15:17:14.117803Z",
     "start_time": "2020-12-30T15:17:10.675755Z"
    }
   },
   "outputs": [
    {
     "name": "stdout",
     "output_type": "stream",
     "text": [
      "2 \n",
      "1 2\n"
     ]
    }
   ],
   "source": [
    "if __name__ == '__main__':\n",
    "    n = int(input())\n",
    "    integer_list = map(int, input().split())"
   ]
  },
  {
   "cell_type": "code",
   "execution_count": 60,
   "metadata": {
    "ExecuteTime": {
     "end_time": "2020-12-30T15:17:15.773901Z",
     "start_time": "2020-12-30T15:17:15.768928Z"
    }
   },
   "outputs": [
    {
     "data": {
      "text/plain": [
       "(1, 2)"
      ]
     },
     "execution_count": 60,
     "metadata": {},
     "output_type": "execute_result"
    }
   ],
   "source": [
    "t = tuple(integer_list)\n",
    "t"
   ]
  },
  {
   "cell_type": "code",
   "execution_count": 61,
   "metadata": {
    "ExecuteTime": {
     "end_time": "2020-12-30T15:17:53.321973Z",
     "start_time": "2020-12-30T15:17:53.318125Z"
    },
    "scrolled": true
   },
   "outputs": [
    {
     "data": {
      "text/plain": [
       "3713081631934410656"
      ]
     },
     "execution_count": 61,
     "metadata": {},
     "output_type": "execute_result"
    }
   ],
   "source": [
    "hash(t)"
   ]
  },
  {
   "cell_type": "markdown",
   "metadata": {},
   "source": [
    "______\n"
   ]
  },
  {
   "cell_type": "markdown",
   "metadata": {},
   "source": [
    "## Strings"
   ]
  },
  {
   "cell_type": "markdown",
   "metadata": {},
   "source": [
    "Task\n",
    "\n",
    "You are given a string *S*.\n",
    "Your task is to find out if the string *S* contains: alphanumeric characters, alphabetical characters, digits, lowercase and uppercase characters.\n",
    "\n",
    "Input Format\n",
    "\n",
    "A single line containing a string *S*.\n",
    "\n",
    "Constraints\n",
    "\n",
    "\n",
    "Output Format\n",
    "\n",
    "In the first line, print True if *S* has any alphanumeric characters. Otherwise, print False.\n",
    "In the second line, print True if *S* has any alphabetical characters. Otherwise, print False.\n",
    "In the third line, print True if *S* has any digits. Otherwise, print False.\n",
    "In the fourth line, print True if *S* has any lowercase characters. Otherwise, print False.\n",
    "In the fifth line, print True if *S* has any uppercase characters. Otherwise, print False."
   ]
  },
  {
   "cell_type": "markdown",
   "metadata": {},
   "source": [
    "My notes: Originally I completely overlooked a very key work here: \"any\". If \"any\" signifies we will need to iterate through each letter in the input. Going to try a for-loop."
   ]
  },
  {
   "cell_type": "code",
   "execution_count": 4,
   "metadata": {
    "ExecuteTime": {
     "end_time": "2021-01-25T15:00:58.862950Z",
     "start_time": "2021-01-25T15:00:55.909559Z"
    },
    "scrolled": true
   },
   "outputs": [
    {
     "name": "stdout",
     "output_type": "stream",
     "text": [
      "qA2\n",
      "True\n",
      "True\n",
      "True\n",
      "True\n",
      "True\n"
     ]
    }
   ],
   "source": [
    "if __name__ == '__main__':\n",
    "    s = input()\n",
    "\n",
    "    \n",
    "print(any(x.isalnum() for x in s))\n",
    "print(any(x.isalpha() for x in s))\n",
    "print(any(x.isdigit() for x in s))\n",
    "print(any(x.islower() for x in s))\n",
    "print(any(x.isupper() for x in s))\n"
   ]
  },
  {
   "cell_type": "markdown",
   "metadata": {},
   "source": [
    "CORRECT!"
   ]
  },
  {
   "cell_type": "markdown",
   "metadata": {},
   "source": [
    "____\n",
    "\n",
    "# NumPy\n",
    "\n",
    "*dot*\n",
    "\n",
    "The dot tool returns the dot product of two arrays.\n",
    "\n",
    "import numpy\n",
    "\n",
    "A = numpy.array([ 1, 2 ])\n",
    "B = numpy.array([ 3, 4 ])\n",
    "\n",
    "print numpy.dot(A, B)       #Output : 11\n",
    "\n",
    "*cross*\n",
    "\n",
    "The cross tool returns the cross product of two arrays.\n",
    "\n",
    "import numpy\n",
    "\n",
    "A = numpy.array([ 1, 2 ])\n",
    "B = numpy.array([ 3, 4 ])\n",
    "\n",
    "print numpy.cross(A, B)     #Output : -2\n",
    "Task\n",
    "\n",
    "You are given two arrays  and . Both have dimensions of X.\n",
    "Your task is to compute their matrix product.\n",
    "\n",
    "Input Format\n",
    "\n",
    "The first line contains the integer N.\n",
    "The next  lines contains N space separated integers of array A.\n",
    "The following  lines contains N space separated integers of array B.\n",
    "\n",
    "Output Format\n",
    "\n",
    "Print the matrix multiplication of  and .\n",
    "\n",
    "Sample Input\n",
    "\n",
    "2 \n",
    "\n",
    "1 2\n",
    "\n",
    "3 4\n",
    "\n",
    "1 2\n",
    "\n",
    "3 4\n",
    "\n",
    "Sample Output\n",
    "\n",
    "[[ 7 10]\n",
    "\n",
    " [15 22]]"
   ]
  },
  {
   "cell_type": "code",
   "execution_count": 5,
   "metadata": {
    "ExecuteTime": {
     "end_time": "2020-12-31T15:41:38.130424Z",
     "start_time": "2020-12-31T15:41:38.127791Z"
    }
   },
   "outputs": [],
   "source": [
    "import numpy as np"
   ]
  },
  {
   "cell_type": "code",
   "execution_count": 22,
   "metadata": {
    "ExecuteTime": {
     "end_time": "2020-12-31T16:13:57.958549Z",
     "start_time": "2020-12-31T16:13:57.954469Z"
    }
   },
   "outputs": [
    {
     "name": "stdout",
     "output_type": "stream",
     "text": [
      "[[ 7 10]\n",
      " [15 22]]\n"
     ]
    }
   ],
   "source": [
    "A = np.array([[1, 2],[3, 4]])\n",
    "B = np.array([[1, 2],[3, 4]])\n",
    "print(np.dot(A,B))"
   ]
  },
  {
   "cell_type": "code",
   "execution_count": 7,
   "metadata": {
    "ExecuteTime": {
     "end_time": "2020-12-31T15:41:57.837361Z",
     "start_time": "2020-12-31T15:41:57.834014Z"
    }
   },
   "outputs": [
    {
     "name": "stdout",
     "output_type": "stream",
     "text": [
      "-2\n"
     ]
    }
   ],
   "source": [
    "print(np.cross(A, B))"
   ]
  },
  {
   "cell_type": "code",
   "execution_count": 15,
   "metadata": {
    "ExecuteTime": {
     "end_time": "2020-12-31T16:00:46.109452Z",
     "start_time": "2020-12-31T16:00:46.105072Z"
    }
   },
   "outputs": [
    {
     "data": {
      "text/plain": [
       "11"
      ]
     },
     "execution_count": 15,
     "metadata": {},
     "output_type": "execute_result"
    }
   ],
   "source": [
    "matrix_prod = np.matmul(A,B)\n",
    "matrix_prod"
   ]
  },
  {
   "cell_type": "markdown",
   "metadata": {},
   "source": [
    "Wording of question was a bit confusing... Sounded like \"next lines contain 2 space separated integers of array A\""
   ]
  },
  {
   "cell_type": "code",
   "execution_count": 20,
   "metadata": {
    "ExecuteTime": {
     "end_time": "2020-12-31T16:13:36.066720Z",
     "start_time": "2020-12-31T16:13:29.434460Z"
    },
    "scrolled": false
   },
   "outputs": [
    {
     "name": "stdout",
     "output_type": "stream",
     "text": [
      "2\n",
      "1 2\n",
      "3 4\n",
      "1 2\n",
      "3 4\n",
      "[[ 7 10]\n",
      " [15 22]]\n"
     ]
    }
   ],
   "source": [
    "N = int(input())\n",
    "A = np.array([input().split() for number in range(N)], int)\n",
    "B = np.array([input().split() for number in range(N)], int)\n",
    "matrix_prod = np.dot(A,B)\n",
    "print(matrix_prod)"
   ]
  },
  {
   "cell_type": "markdown",
   "metadata": {},
   "source": [
    "# EASY problems"
   ]
  },
  {
   "cell_type": "code",
   "execution_count": null,
   "metadata": {},
   "outputs": [],
   "source": []
  }
 ],
 "metadata": {
  "kernelspec": {
   "display_name": "Python 3",
   "language": "python",
   "name": "python3"
  },
  "language_info": {
   "codemirror_mode": {
    "name": "ipython",
    "version": 3
   },
   "file_extension": ".py",
   "mimetype": "text/x-python",
   "name": "python",
   "nbconvert_exporter": "python",
   "pygments_lexer": "ipython3",
   "version": "3.6.9"
  },
  "toc": {
   "base_numbering": 1,
   "nav_menu": {},
   "number_sections": true,
   "sideBar": true,
   "skip_h1_title": false,
   "title_cell": "Table of Contents",
   "title_sidebar": "Contents",
   "toc_cell": false,
   "toc_position": {},
   "toc_section_display": true,
   "toc_window_display": true
  },
  "varInspector": {
   "cols": {
    "lenName": 16,
    "lenType": 16,
    "lenVar": 40
   },
   "kernels_config": {
    "python": {
     "delete_cmd_postfix": "",
     "delete_cmd_prefix": "del ",
     "library": "var_list.py",
     "varRefreshCmd": "print(var_dic_list())"
    },
    "r": {
     "delete_cmd_postfix": ") ",
     "delete_cmd_prefix": "rm(",
     "library": "var_list.r",
     "varRefreshCmd": "cat(var_dic_list()) "
    }
   },
   "types_to_exclude": [
    "module",
    "function",
    "builtin_function_or_method",
    "instance",
    "_Feature"
   ],
   "window_display": false
  }
 },
 "nbformat": 4,
 "nbformat_minor": 2
}
